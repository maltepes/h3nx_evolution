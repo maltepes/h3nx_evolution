{
 "cells": [
  {
   "cell_type": "code",
   "execution_count": null,
   "id": "1d23443c",
   "metadata": {},
   "outputs": [],
   "source": [
    "from Bio import SeqIO\n",
    "import json\n",
    "\n",
    "genes = ['PB2',\n",
    "'PB1',\n",
    "'PA',\n",
    "'HA',\n",
    "'NP',\n",
    "'NA',\n",
    "'MP',\n",
    "'NS']\n",
    "\n",
    "alignments = [f'/Users/jort/coding/90s-h3-tree/run1/results/aligned_h3n2_{gene.lower()}.fasta' for gene in genes]\n",
    "muts = [f'/Users/jort/coding/90s-h3-tree/run1/results/nt-muts_h3n2_{gene.lower()}.json' for gene in genes]\n",
    "output_pruned_strains = '/Users/jort/Desktop/pruned_strains.txt'\n",
    "\n",
    "all_pruned_strains = set()\n",
    "\n",
    "for gene, alignment, mut in zip(genes, alignments, muts):\n",
    "    with open(mut) as f:\n",
    "        tree_strains = [strain for strain in json.load(f)['nodes'].keys() if 'NODE' not in strain]\n",
    "    alignment_strains = [record.id for record in SeqIO.parse(alignment, 'fasta')]\n",
    "    \n",
    "    pruned_strains = [strain for strain in alignment_strains if strain not in tree_strains]\n",
    "    \n",
    "    print(f'pruned from {gene} tree:')\n",
    "    for strain in pruned_strains:\n",
    "        print(strain)\n",
    "        all_pruned_strains.add(strain)\n",
    "        \n",
    "with open(output_pruned_strains, 'w') as f:\n",
    "    f.write('\\n'.join(all_pruned_strains))"
   ]
  }
 ],
 "metadata": {
  "kernelspec": {
   "display_name": "Python 3 (ipykernel)",
   "language": "python",
   "name": "python3"
  },
  "language_info": {
   "codemirror_mode": {
    "name": "ipython",
    "version": 3
   },
   "file_extension": ".py",
   "mimetype": "text/x-python",
   "name": "python",
   "nbconvert_exporter": "python",
   "pygments_lexer": "ipython3",
   "version": "3.9.13"
  }
 },
 "nbformat": 4,
 "nbformat_minor": 5
}
