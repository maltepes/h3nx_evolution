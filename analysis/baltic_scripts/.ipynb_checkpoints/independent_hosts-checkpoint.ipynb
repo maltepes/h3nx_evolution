{
 "cells": [
  {
   "cell_type": "code",
   "execution_count": 12,
   "id": "ce49c691-79b1-4c3c-80c4-65cffdcf7bd6",
   "metadata": {},
   "outputs": [
    {
     "name": "stdout",
     "output_type": "stream",
     "text": [
      "\n",
      "Tree height: 136.245509\n",
      "Tree length: 8467.898126\n",
      "annotations present\n",
      "\n",
      "Numbers of objects in tree: 3181 (1435 nodes and 1746 leaves)\n",
      "\n"
     ]
    }
   ],
   "source": [
    "import baltic as bt\n",
    "import pandas as pd\n",
    "import json \n",
    "\n",
    "tree_path = \"/Users/monclalab1/Documents/nonhuman_H3_project/non-human-h3/auspice/nonhuman_influenza_h3nx_ha.json\"\n",
    "mytree, mymeta = bt.loadJSON(tree_path)\n"
   ]
  },
  {
   "cell_type": "code",
   "execution_count": 7,
   "id": "3fbd9a0b-4f08-4c17-a81a-a2163522e728",
   "metadata": {},
   "outputs": [],
   "source": [
    "#this parses the tree and returns a list of strain names that are in the swine, equine, and canine lineages\n",
    "#with the intent of making a new nextstrain build that is host specific\n",
    "#you have to update the node list indexing based on segment\n",
    "\n",
    "count=0\n",
    "node_list = []\n",
    "leaf_list =[] #just so at the end you can say add anything thats not in this list into the avian list\n",
    "\n",
    "for k in mytree.Objects[1:]:\n",
    "        if k.branchType == \"node\":\n",
    "            if k.traits[\"node_attrs\"][\"host\"][\"value\"] != k.parent.traits[\"node_attrs\"][\"host\"][\"value\"]:\n",
    "                if len(k.leaves) >= 10:\n",
    "                    new = mytree.subtree(k = k)\n",
    "                    for i in new.Objects:\n",
    "                        if i.branchType == \"leaf\":\n",
    "                            if i.traits[\"node_attrs\"][\"host\"][\"value\"] == new.root.traits[\"node_attrs\"][\"host\"][\"value\"]:\n",
    "                                count += 1\n",
    "                                if count >=10:\n",
    "                                    node_list.append(k) #store root node because that node is now the start of a new lineage\n",
    "                                    count=0\n",
    "                                    break\n"
   ]
  },
  {
   "cell_type": "code",
   "execution_count": 10,
   "id": "c96bf340-7a2a-45a2-a384-7ca973b68d09",
   "metadata": {},
   "outputs": [],
   "source": [
    "for k in node_list:\n",
    "    print(k.traits)"
   ]
  },
  {
   "cell_type": "code",
   "execution_count": 11,
   "id": "e95d49e5-4aec-4d9c-a86f-45e1229b2292",
   "metadata": {},
   "outputs": [],
   "source": [
    "#splitting up the avian NA into 3 distinct clades based on subtype\n",
    "\n",
    "tree_path = \"/Users/monclalab1/Documents/nonhuman_H3_project/non-human-h3/host-specific/avian/auspice/nonhuman_influenza_h3nx_na.json\"\n",
    "mytree, mymeta = bt.loadJSON(tree_path)\n",
    "\n",
    "for k in mytree.Objects:\n",
    "        if k.branchType == \"node\" and k.traits['name'] == 'NODE_0000550': #h3n8\n",
    "            clade1 = mytree.subtree(k = k)\n",
    "        if k.branchType == \"node\" and k.traits['name'] == 'NODE_0001317': #h3n2\n",
    "            clade2 = mytree.subtree(k = k)\n",
    "        if k.branchType == \"node\" and k.traits['name'] == 'NODE_0001040': #h3n6\n",
    "            clade3 = mytree.subtree(k = k)\n",
    "            \n",
    "clade1_leaves = []\n",
    "clade2_leaves = []\n",
    "clade3_leaves = []\n",
    "\n",
    "for i in clade1.Objects:\n",
    "        if i.branchType == \"leaf\" and i.traits['subtype'] == 'H3N8':\n",
    "            clade1_leaves.append(i.traits[\"name\"])\n",
    "            \n",
    "for l in clade2.Objects:\n",
    "        if l.branchType == \"leaf\" and l.traits['subtype'] == 'H3N2':\n",
    "            clade2_leaves.append(l.traits[\"name\"])\n",
    "            \n",
    "for j in clade3.Objects:\n",
    "        if j.branchType == \"leaf\" and j.traits['subtype'] == 'H3N6':\n",
    "            clade3_leaves.append(j.traits[\"name\"])\n",
    "            \n",
    "            \n",
    "            \n",
    "#subsetting the existing fasta file to only have the strains from the specific host\n",
    "fasta_file = \"/Users/monclalab1/Documents/nonhuman_H3_project/non-human-h3/human/h3nx_na.fa\"\n",
    "\n",
    "fasta_data = []\n",
    "\n",
    "with open(fasta_file) as f:\n",
    "    header = \"\"\n",
    "    sequence = \"\"\n",
    "    for line in f:\n",
    "        if line.startswith(\">\"):\n",
    "            if header != \"\":\n",
    "                fasta_data.append({\"header\": header, \"sequence\": sequence})\n",
    "            header = line.strip()\n",
    "            sequence = \"\"\n",
    "        else:\n",
    "            sequence += line.strip()\n",
    "    fasta_data.append({\"header\": header, \"sequence\": sequence})\n",
    "\n",
    "df = pd.DataFrame(fasta_data)\n",
    "\n",
    "df['Strain'] = df['header'].str.split(\"|\").str[0]\n",
    "df['Strain'] = df['Strain'].str[1:]\n",
    "\n",
    "df = df[df[\"Strain\"].isin(clade3_leaves)]\n",
    "\n",
    "df = df.drop([\"Strain\"], axis = 1)\n",
    "\n",
    "host_fasta_file = \"/Users/monclalab1/Documents/nonhuman_H3_project/non-human-h3/host-specific/na/with_humans/avian_h3n6_na.fa\"\n",
    "with open(host_fasta_file, \"w\") as f:\n",
    "    for index, row in df.iterrows():\n",
    "        f.write(f\"{row['header']}\\n\")\n",
    "        f.write(f\"{row['sequence']}\\n\")"
   ]
  },
  {
   "cell_type": "code",
   "execution_count": 16,
   "id": "3ab1e0d6-6447-4602-8295-4429efa34d67",
   "metadata": {},
   "outputs": [
    {
     "name": "stdout",
     "output_type": "stream",
     "text": [
      "\n",
      "Tree height: 88.351970\n",
      "Tree length: 6586.485134\n",
      "annotations present\n",
      "\n",
      "Numbers of objects in tree: 2931 (1353 nodes and 1578 leaves)\n",
      "\n"
     ]
    }
   ],
   "source": [
    "#splitting up the avian HA or PB1 into 2 distinct clades based on region\n",
    "#north americam vs everything else\n",
    "\n",
    "tree_path = \"/Users/monclalab1/Documents/nonhuman_H3_project/non-human-h3/host-specific/avian/auspice/nonhuman_influenza_h3nx_pb1.json\"\n",
    "mytree, mymeta = bt.loadJSON(tree_path)\n",
    "\n",
    "for k in mytree.Objects:\n",
    "        if k.branchType == \"node\" and k.traits['name'] == 'NODE_0000075': #north america\n",
    "            clade1 = mytree.subtree(k = k)\n",
    "        if k.branchType == \"node\" and k.traits['name'] == 'NODE_0000107': #else\n",
    "            clade2 = mytree.subtree(k = k)\n",
    "            \n",
    "clade1_leaves = []\n",
    "clade2_leaves = []\n",
    "\n",
    "for i in clade1.Objects:\n",
    "        if i.branchType == \"leaf\" and i.traits['region'] == 'North America':\n",
    "            clade1_leaves.append(i.traits[\"name\"])\n",
    "            \n",
    "for l in clade2.Objects:\n",
    "        if l.branchType == \"leaf\":\n",
    "            clade2_leaves.append(l.traits[\"name\"])\n",
    "            \n",
    "            \n",
    "            \n",
    "#subsetting the existing fasta file to only have the strains from the specific host\n",
    "fasta_file = \"/Users/monclalab1/Documents/nonhuman_H3_project/non-human-h3/human/h3nx_pb1.fa\"\n",
    "\n",
    "fasta_data = []\n",
    "\n",
    "with open(fasta_file) as f:\n",
    "    header = \"\"\n",
    "    sequence = \"\"\n",
    "    for line in f:\n",
    "        if line.startswith(\">\"):\n",
    "            if header != \"\":\n",
    "                fasta_data.append({\"header\": header, \"sequence\": sequence})\n",
    "            header = line.strip()\n",
    "            sequence = \"\"\n",
    "        else:\n",
    "            sequence += line.strip()\n",
    "    fasta_data.append({\"header\": header, \"sequence\": sequence})\n",
    "\n",
    "df = pd.DataFrame(fasta_data)\n",
    "\n",
    "df['Strain'] = df['header'].str.split(\"|\").str[0]\n",
    "df['Strain'] = df['Strain'].str[1:]\n",
    "\n",
    "df = df[df[\"Strain\"].isin(clade1_leaves)]\n",
    "\n",
    "df = df.drop([\"Strain\"], axis = 1)\n",
    "\n",
    "host_fasta_file = \"/Users/monclalab1/Documents/nonhuman_H3_project/non-human-h3/host-specific/pb1/with_humans/avian_namerica_pb1.fa\"\n",
    "with open(host_fasta_file, \"w\") as f:\n",
    "    for index, row in df.iterrows():\n",
    "        f.write(f\"{row['header']}\\n\")\n",
    "        f.write(f\"{row['sequence']}\\n\")"
   ]
  },
  {
   "cell_type": "code",
   "execution_count": null,
   "id": "d585a85f-241c-4d67-9468-507dab9e844f",
   "metadata": {},
   "outputs": [],
   "source": [
    "# human = mytree.subtree(k=(node_list[5]))\n",
    "# human_list = []\n",
    "# for i in human.Objects:\n",
    "#         if i.branchType == \"leaf\":\n",
    "#             leaf_list.append(i.traits[\"name\"])\n",
    "#             if i.traits[\"node_attrs\"][\"host\"][\"value\"] == human.root.traits[\"node_attrs\"][\"host\"][\"value\"]:    \n",
    "#                 human_list.append(i.traits[\"name\"])                                \n",
    "                \n",
    "\n",
    "# equine = mytree.subtree(k=(node_list[2]))\n",
    "# equine_list = []\n",
    "# for i in equine.Objects:\n",
    "#         if i.branchType == \"leaf\":\n",
    "#             leaf_list.append(i.traits[\"name\"])\n",
    "#             if i.traits[\"node_attrs\"][\"host\"][\"value\"] == equine.root.traits[\"node_attrs\"][\"host\"][\"value\"]:    \n",
    "#                 equine_list.append(i.traits[\"name\"])\n",
    "                \n",
    "# EquCanine = mytree.subtree(k=(node_list[3]))\n",
    "# EquCanine_list = []\n",
    "# for j in EquCanine.Objects:\n",
    "#         if j.branchType == \"leaf\":\n",
    "#             leaf_list.append(j.traits[\"name\"])\n",
    "#             if j.traits[\"node_attrs\"][\"host\"][\"value\"] == EquCanine.root.traits[\"node_attrs\"][\"host\"][\"value\"]:    \n",
    "#                 EquCanine_list.append(j.traits[\"name\"])\n",
    "\n",
    "# canine = mytree.subtree(k=(node_list[4]))\n",
    "# canine_list = []\n",
    "# for h in canine.Objects:\n",
    "#         if h.branchType == \"leaf\":\n",
    "#             leaf_list.append(h.traits[\"name\"])\n",
    "#             if h.traits[\"node_attrs\"][\"host\"][\"value\"] == canine.root.traits[\"node_attrs\"][\"host\"][\"value\"]:    \n",
    "#                 canine_list.append(h.traits[\"name\"])\n",
    "\n",
    "#cannot use this for the human build\n",
    "# swine_list = []\n",
    "# swine = mytree.subtree(k=(node_list[5]))\n",
    "\n",
    "# for g in swine.Objects:\n",
    "#         if g.branchType == \"leaf\":\n",
    "#             leaf_list.append(g.traits[\"name\"])\n",
    "#             if g.traits[\"node_attrs\"][\"host\"][\"value\"] == swine.root.traits[\"node_attrs\"][\"host\"][\"value\"]:    \n",
    "#                 swine_list.append(g.traits[\"name\"])\n",
    "\n",
    "# print(len(swine_list))\n",
    "            \n",
    "\n",
    "# combining equine and equcanine:\n",
    "# Equine_Canine_Clade = EquCanine_list + equine_list\n",
    "# print(len(Equine_Canine_Clade))\n",
    "\n",
    "# avian_list =[]\n",
    "\n",
    "# for k in mytree.Objects:\n",
    "#         if k.branchType == \"leaf\":\n",
    "#             if k.traits[\"name\"] not in leaf_list and k.traits[\"node_attrs\"][\"host\"][\"value\"] == \"Avian\":\n",
    "#                 avian_list.append(k.traits[\"name\"])\n",
    "          \n"
   ]
  },
  {
   "cell_type": "code",
   "execution_count": 26,
   "id": "57d57cb4-abb8-4c1c-88ee-fe4f287148e8",
   "metadata": {},
   "outputs": [
    {
     "name": "stdout",
     "output_type": "stream",
     "text": [
      "316\n"
     ]
    }
   ],
   "source": [
    "print(len(human_list))"
   ]
  },
  {
   "cell_type": "code",
   "execution_count": 28,
   "id": "9004dcdf-4ef0-4040-b66e-4f4cd50b257b",
   "metadata": {},
   "outputs": [
    {
     "name": "stdout",
     "output_type": "stream",
     "text": [
      "1089\n"
     ]
    }
   ],
   "source": [
    "#use this for the human build\n",
    "all_swine_list = []\n",
    "for k in node_list[2:]:\n",
    "    if k.traits[\"node_attrs\"][\"host\"][\"value\"] == \"Swine\":\n",
    "        swine = mytree.subtree(k)\n",
    "        for g in swine.Objects:\n",
    "            if g.branchType == \"leaf\":\n",
    "                leaf_list.append(g.traits[\"name\"])\n",
    "                if g.traits[\"node_attrs\"][\"host\"][\"value\"] == swine.root.traits[\"node_attrs\"][\"host\"][\"value\"] and g.traits[\"name\"] not in all_swine_list:    \n",
    "                    all_swine_list.append(g.traits[\"name\"])\n",
    "\n",
    "print(len(all_swine_list))            "
   ]
  },
  {
   "cell_type": "code",
   "execution_count": 37,
   "id": "f4eecc4b-c8c0-4a8c-9f81-6f62ac9f7f53",
   "metadata": {},
   "outputs": [
    {
     "name": "stdout",
     "output_type": "stream",
     "text": [
      "274\n",
      "379\n"
     ]
    }
   ],
   "source": [
    "#needed for pb1 swine\n",
    "europe_swine_list = []\n",
    "swine = mytree.subtree(k=(node_list[0]))\n",
    "\n",
    "for g in swine.Objects:\n",
    "        if g.branchType == \"leaf\":\n",
    "            leaf_list.append(g.traits[\"name\"])\n",
    "            if g.traits[\"node_attrs\"][\"host\"][\"value\"] == \"Swine\" and g.traits[\"node_attrs\"][\"region\"][\"value\"] == \"Europe\":    \n",
    "                europe_swine_list.append(g.traits[\"name\"])\n",
    "                \n",
    "print(len(europe_swine_list))\n",
    "\n",
    "NA_swine_list = []\n",
    "#swine = mytree.subtree(k=(node_list[5]))\n",
    "\n",
    "for k in node_list[7:]:\n",
    "    if k.traits[\"node_attrs\"][\"host\"][\"value\"] == \"Swine\":\n",
    "        swine = mytree.subtree(k)\n",
    "        for g in swine.Objects:\n",
    "            if g.branchType == \"leaf\":\n",
    "                leaf_list.append(g.traits[\"name\"])\n",
    "                if g.traits[\"node_attrs\"][\"host\"][\"value\"] == \"Swine\" and g.traits[\"name\"] not in NA_swine_list and g.traits[\"node_attrs\"][\"region\"][\"value\"] == \"North America\":    \n",
    "                    NA_swine_list.append(g.traits[\"name\"])\n",
    "                    \n",
    "                \n",
    "print(len(NA_swine_list))   "
   ]
  },
  {
   "cell_type": "code",
   "execution_count": 43,
   "id": "bbba2442-bccc-4e5f-9cf5-2ac0b57cf23a",
   "metadata": {},
   "outputs": [
    {
     "name": "stdout",
     "output_type": "stream",
     "text": [
      "312\n",
      "311\n"
     ]
    }
   ],
   "source": [
    "#na european and NA swine\n",
    "europe_swine_list = []\n",
    "swine = mytree.subtree(k=(node_list[7]))\n",
    "\n",
    "for g in swine.Objects:\n",
    "        if g.branchType == \"leaf\":\n",
    "            leaf_list.append(g.traits[\"name\"])\n",
    "            if g.traits[\"node_attrs\"][\"host\"][\"value\"] == swine.root.traits[\"node_attrs\"][\"host\"][\"value\"] and g.traits[\"node_attrs\"][\"region\"][\"value\"] == \"Europe\":    \n",
    "                europe_swine_list.append(g.traits[\"name\"])\n",
    "\n",
    "print(len(europe_swine_list))             \n",
    "            \n",
    "na_swine_list = []\n",
    "swine = mytree.subtree(k=(node_list[15]))\n",
    "\n",
    "for g in swine.Objects:\n",
    "        if g.branchType == \"leaf\":\n",
    "            leaf_list.append(g.traits[\"name\"])\n",
    "            if g.traits[\"node_attrs\"][\"host\"][\"value\"] == swine.root.traits[\"node_attrs\"][\"host\"][\"value\"] and g.traits[\"node_attrs\"][\"region\"][\"value\"] == \"North America\":    \n",
    "                na_swine_list.append(g.traits[\"name\"])\n",
    "\n",
    "print(len(na_swine_list)) "
   ]
  },
  {
   "cell_type": "code",
   "execution_count": 57,
   "id": "8427cead-afd2-45df-9347-2ccfd0885876",
   "metadata": {},
   "outputs": [
    {
     "name": "stdout",
     "output_type": "stream",
     "text": [
      "310\n",
      "317\n"
     ]
    }
   ],
   "source": [
    "#ha european and NAmerican swine\n",
    "europe_swine_list = []\n",
    "swine = mytree.subtree(k=(node_list[6]))\n",
    "\n",
    "for g in swine.Objects:\n",
    "        if g.branchType == \"leaf\":\n",
    "            leaf_list.append(g.traits[\"name\"])\n",
    "            if g.traits[\"node_attrs\"][\"host\"][\"value\"] == swine.root.traits[\"node_attrs\"][\"host\"][\"value\"] and g.traits[\"node_attrs\"][\"region\"][\"value\"] == \"Europe\":    \n",
    "                europe_swine_list.append(g.traits[\"name\"])\n",
    "\n",
    "print(len(europe_swine_list))               \n",
    "            \n",
    "na_swine_list = []\n",
    "swine = mytree.subtree(k=(node_list[10]))\n",
    "\n",
    "for g in swine.Objects:\n",
    "        if g.branchType == \"leaf\":\n",
    "            leaf_list.append(g.traits[\"name\"])\n",
    "            if g.traits[\"node_attrs\"][\"host\"][\"value\"] == swine.root.traits[\"node_attrs\"][\"host\"][\"value\"] and g.traits[\"node_attrs\"][\"region\"][\"value\"] == \"North America\":    \n",
    "                na_swine_list.append(g.traits[\"name\"])\n",
    "                \n",
    "                \n",
    "\n",
    "print(len(na_swine_list))  "
   ]
  },
  {
   "cell_type": "code",
   "execution_count": 58,
   "id": "27b703f6-9d17-4c29-a3ca-1232560b6fab",
   "metadata": {},
   "outputs": [],
   "source": [
    "avian_list =[]\n",
    "\n",
    "for k in mytree.Objects:\n",
    "        if k.branchType == \"leaf\":\n",
    "            if k.traits[\"name\"] not in leaf_list and k.traits[\"node_attrs\"][\"host\"][\"value\"] == \"Avian\":\n",
    "                avian_list.append(k.traits[\"name\"])"
   ]
  },
  {
   "cell_type": "code",
   "execution_count": 79,
   "id": "176305c1-24b4-4a40-b923-11dfcea0e73d",
   "metadata": {},
   "outputs": [
    {
     "name": "stdout",
     "output_type": "stream",
     "text": [
      "1048\n"
     ]
    }
   ],
   "source": [
    "pb1_human_swine_clade = human_list + NA_swine_list\n",
    "print(len(pb1_human_swine_clade))"
   ]
  },
  {
   "cell_type": "code",
   "execution_count": 31,
   "id": "49d60dd8-aba7-4a59-99dc-d56101f64294",
   "metadata": {},
   "outputs": [
    {
     "name": "stdout",
     "output_type": "stream",
     "text": [
      "1405\n"
     ]
    }
   ],
   "source": [
    "NA_human_swine_clade = human_list + all_swine_list\n",
    "print(len(NA_human_swine_clade))"
   ]
  },
  {
   "cell_type": "code",
   "execution_count": 16,
   "id": "7f9132e1-0deb-4260-85f0-74c22b7fbf75",
   "metadata": {},
   "outputs": [],
   "source": [
    "#sanity checks\n",
    "\n",
    "#if an avian strain from the swine lineage is wrongly in the avian list\n",
    "# if 'A/turkey/Ontario/31232/2005' in avian_list:\n",
    "#     print('in avian')\n",
    "\n",
    "# #if a swine strain from an avian lineage is wrongly in the swine list\n",
    "if 'A/swine/Saskatchewan/02903/2009' in NA_swine_list:\n",
    "    print('in swine')\n",
    "\n",
    "# if 'A/canine/Guangxi/L1/2013' in canine_list:\n",
    "#     print('in canine')\n"
   ]
  },
  {
   "cell_type": "code",
   "execution_count": 60,
   "id": "d52a759b-c600-45f3-9d57-a194174781ac",
   "metadata": {},
   "outputs": [],
   "source": [
    "#subsetting the existing fasta file to only have the strains from the specific host\n",
    "fasta_file = \"/Users/monclalab1/Documents/nonhuman_H3_project/non-human-h3/human/h3nx_ha.fa\"\n",
    "\n",
    "fasta_data = []\n",
    "\n",
    "with open(fasta_file) as f:\n",
    "    header = \"\"\n",
    "    sequence = \"\"\n",
    "    for line in f:\n",
    "        if line.startswith(\">\"):\n",
    "            if header != \"\":\n",
    "                fasta_data.append({\"header\": header, \"sequence\": sequence})\n",
    "            header = line.strip()\n",
    "            sequence = \"\"\n",
    "        else:\n",
    "            sequence += line.strip()\n",
    "    fasta_data.append({\"header\": header, \"sequence\": sequence})\n",
    "\n",
    "df = pd.DataFrame(fasta_data)\n",
    "\n",
    "df['Strain'] = df['header'].str.split(\"|\").str[0]\n",
    "df['Strain'] = df['Strain'].str[1:]\n",
    "\n",
    "df = df[df[\"Strain\"].isin(na_swine_list)]\n",
    "\n",
    "df = df.drop([\"Strain\"], axis = 1)\n",
    "\n",
    "host_fasta_file = \"/Users/monclalab1/Documents/nonhuman_H3_project/non-human-h3/host-specific/HA/with_humans/na_swine_ha.fasta\"\n",
    "with open(host_fasta_file, \"w\") as f:\n",
    "    for index, row in df.iterrows():\n",
    "        f.write(f\"{row['header']}\\n\")\n",
    "        f.write(f\"{row['sequence']}\\n\")\n",
    "\n"
   ]
  },
  {
   "cell_type": "code",
   "execution_count": 38,
   "id": "419b6f42-005d-475b-a966-f46d9d70d87c",
   "metadata": {},
   "outputs": [],
   "source": [
    "#subsetting the existing fasta file to only have the strains from the specific host\n",
    "fasta_file = \"/Users/monclalab1/Documents/nonhuman_H3_project/non-human-h3/human/h3nx_pb1.fa\"\n",
    "\n",
    "fasta_data = []\n",
    "\n",
    "with open(fasta_file) as f:\n",
    "    header = \"\"\n",
    "    sequence = \"\"\n",
    "    for line in f:\n",
    "        if line.startswith(\">\"):\n",
    "            if header != \"\":\n",
    "                fasta_data.append({\"header\": header, \"sequence\": sequence})\n",
    "            header = line.strip()\n",
    "            sequence = \"\"\n",
    "        else:\n",
    "            sequence += line.strip()\n",
    "    fasta_data.append({\"header\": header, \"sequence\": sequence})\n",
    "\n",
    "df = pd.DataFrame(fasta_data)\n",
    "\n",
    "df['Strain'] = df['header'].str.split(\"|\").str[0]\n",
    "df['Strain'] = df['Strain'].str[1:]\n",
    "\n",
    "df = df[df[\"Strain\"].isin(europe_swine_list)]\n",
    "\n",
    "df = df.drop([\"Strain\"], axis = 1)\n",
    "\n",
    "host_fasta_file = \"/Users/monclalab1/Documents/nonhuman_H3_project/non-human-h3/host-specific/PB1/with_humans/europe_swine_pb1.fa\"\n",
    "with open(host_fasta_file, \"w\") as f:\n",
    "    for index, row in df.iterrows():\n",
    "        f.write(f\"{row['header']}\\n\")\n",
    "        f.write(f\"{row['sequence']}\\n\")\n",
    "\n"
   ]
  },
  {
   "cell_type": "code",
   "execution_count": 10,
   "id": "46c94cbe-8cb7-4894-aaa0-d330d6699b08",
   "metadata": {},
   "outputs": [],
   "source": [
    "#subsetting the existing fasta file to only have the strains from the specific host\n",
    "fasta_file = \"/Users/monclalab1/Documents/nonhuman_H3_project/non-human-h3/human/h3nx_na.fa\"\n",
    "\n",
    "fasta_data = []\n",
    "\n",
    "with open(fasta_file) as f:\n",
    "    header = \"\"\n",
    "    sequence = \"\"\n",
    "    for line in f:\n",
    "        if line.startswith(\">\"):\n",
    "            if header != \"\":\n",
    "                fasta_data.append({\"header\": header, \"sequence\": sequence})\n",
    "            header = line.strip()\n",
    "            sequence = \"\"\n",
    "        else:\n",
    "            sequence += line.strip()\n",
    "    fasta_data.append({\"header\": header, \"sequence\": sequence})\n",
    "\n",
    "df = pd.DataFrame(fasta_data)\n",
    "\n",
    "df['Strain'] = df['header'].str.split(\"|\").str[0]\n",
    "df['Strain'] = df['Strain'].str[1:]\n",
    "\n",
    "df = df[df[\"Strain\"].isin(na_swine_list)]\n",
    "\n",
    "df = df.drop([\"Strain\"], axis = 1)\n",
    "\n",
    "host_fasta_file = \"/Users/monclalab1/Documents/nonhuman_H3_project/non-human-h3/host-specific/NA/with_humans/namerica_na_swine.fa\"\n",
    "with open(host_fasta_file, \"w\") as f:\n",
    "    for index, row in df.iterrows():\n",
    "        f.write(f\"{row['header']}\\n\")\n",
    "        f.write(f\"{row['sequence']}\\n\")\n",
    "\n"
   ]
  },
  {
   "cell_type": "code",
   "execution_count": null,
   "id": "ff0468a4-d76a-46a1-ba85-f8980bfb05ee",
   "metadata": {},
   "outputs": [],
   "source": []
  }
 ],
 "metadata": {
  "kernelspec": {
   "display_name": "Python 3 (ipykernel)",
   "language": "python",
   "name": "python3"
  },
  "language_info": {
   "codemirror_mode": {
    "name": "ipython",
    "version": 3
   },
   "file_extension": ".py",
   "mimetype": "text/x-python",
   "name": "python",
   "nbconvert_exporter": "python",
   "pygments_lexer": "ipython3",
   "version": "3.10.9"
  }
 },
 "nbformat": 4,
 "nbformat_minor": 5
}
